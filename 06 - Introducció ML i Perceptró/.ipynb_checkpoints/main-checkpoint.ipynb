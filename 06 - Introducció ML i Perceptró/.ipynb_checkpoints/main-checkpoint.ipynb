{
 "cells": [
  {
   "cell_type": "markdown",
   "id": "9c169dcaf756edde",
   "metadata": {},
   "source": [
    "# Machine Learning\n",
    "\n",
    "> \"L'aprenentatge automàtic (\"machine learning\" en anglès) és un camp de la intel·ligència artificial que està dedicat al disseny, l'anàlisi i el desenvolupament d'algorismes i tècniques que permeten que les màquines evolucionin. Es una àrea multidisciplinària que, a través de ciències com la computació, les matemàtiques, la lògica i la filosofia, estudia la creació i el disseny de programes capaços de generalitzar comportaments a partir del reconeixement de patrons o classificació i de sistemes capaços de resoldre problemes quotidians per si mateixos, utilitzant com a paradigma la intel·ligència humana.\" [Link](https://ca.wikipedia.org/wiki/Aprenentatge_autom%C3%A0tic)\n",
    "\n",
    "\n",
    "## Tasques més habituals de ML \n",
    "\n",
    "Podem classificar les tasques segons l'activitat a resoldre[3]:\n",
    "\n",
    "- **Classificació** (*Classification and class probability estimation*). Per a cada individu d'una població estimar el conjunt de classes, també conegut com una categoria, al qual pertany. Exemples: quins grups de clients reaccionaran a una oferta? Quins clients accedirien a realitzar una enquesta telefònica? etc.\n",
    "- **Regressió** (*Regression - value estimation*). S'intenta estimar o predir el valor numèric d'una variable. Exemple: quants clients empraran un servei?. La regressió està relacionada amb la classificació. La classificació prediu **si alguna cosa passarà** i la regressió **quan ocorrerà**.\n",
    "- **Agrupació** (*Clustering*). És la tasca d'intentar agrupar elements d'una població que comparteixin similituds. Exemple: Quina relació guarden aquests clients?\n",
    "- **Modelització de causes**( *Casual modeling*). Intenta ajudar a comprendre la influència mútua d'esdeveniments o accions. Exemple: Què t'ha portat a comprar aquest producte?\n",
    "- \n",
    "## Classificació\n",
    "\n",
    "L'objectiu de la classificació és predir les etiquetes de classe de noves instàncies. Aquestes etiquetes de classe són valors discrets i desordenats que poden entendre's com la filiació de la instància a un grup.\n",
    "\n",
    "Existeixen dos tipus de classificadors segons el nombre de classes:\n",
    "\n",
    "- Binaris. Prediuen un resultat binari. Hi ha dos tipus de classes, per exemple: *yes/no, pass/fail, spam/not spam, etc.*\n",
    "- Multiclasse. Com s'indica existeixen més de dues classes, per exemple: *gèneres narratius, etiquetes mediambientals, etc.*\n"
   ]
  },
  {
   "cell_type": "code",
   "execution_count": 1,
   "id": "ea92533e",
   "metadata": {},
   "outputs": [
    {
     "name": "stderr",
     "output_type": "stream",
     "text": [
      "Matplotlib is building the font cache; this may take a moment.\n"
     ]
    }
   ],
   "source": [
    "import numpy as np\n",
    "from sklearn import linear_model\n",
    "from sklearn.model_selection import train_test_split\n",
    "\n",
    "from matplotlib import pyplot as plt"
   ]
  },
  {
   "cell_type": "code",
   "execution_count": null,
   "id": "170e4a32",
   "metadata": {},
   "outputs": [],
   "source": [
    "data = np.random.rand(2500, 2)\n",
    "\n",
    "data = data[((data[:, 0] > 0.6) | (data[:, 0] < 0.4)), :]\n",
    "data = data[((data[:, 1] > 0.6) | (data[:, 1] < 0.4)), :]\n",
    "\n",
    "label = (data[:, 0] > 0.5) & (data[:, 1] > 0.5).astype(np.uint8)"
   ]
  },
  {
   "cell_type": "markdown",
   "id": "30304a05",
   "metadata": {},
   "source": [
    "# Primera pràctica (ML): perceptró.\n",
    "## 5-XI-2024\n",
    "\n",
    "Aquesta primera pràctica veurem com es dur a terme un entrenament d'aprenentatge automàtic. Hem de dur a terme el procés que heu vist a teoria:\n",
    "\n",
    "![proces](proces.png)"
   ]
  },
  {
   "cell_type": "markdown",
   "id": "4843d9a5",
   "metadata": {},
   "source": [
    "# Dataset \n",
    "\n",
    "El primer que hem de fer es saber com són les dades. Ja que són **dades 2D**. Per visualizar-ho empram la llibreria *matplotlib*."
   ]
  },
  {
   "cell_type": "code",
   "execution_count": null,
   "id": "ff72f718",
   "metadata": {},
   "outputs": [],
   "source": [
    "plt.scatter(data[:, 0], data[:, 1]);"
   ]
  },
  {
   "cell_type": "markdown",
   "id": "a51f9b8b",
   "metadata": {},
   "source": [
    "Es interessant saber com es localitza l'etiqueta. Per fer-ho mostram cada punt a quina classe correspon."
   ]
  },
  {
   "cell_type": "code",
   "execution_count": null,
   "id": "18464625",
   "metadata": {},
   "outputs": [],
   "source": [
    "plt.scatter(data[:, 0], data[:, 1], c=label);"
   ]
  },
  {
   "cell_type": "markdown",
   "id": "ce723df0",
   "metadata": {},
   "source": [
    "Em de dividir les dades entre train i test. Per fer-ho emprarem les eines que tenim amb la lliberia *scikit-learn*. Em de definir:\n",
    "* La mida del test.\n",
    "* Un random state. Ens permet que sempre es divideix igual."
   ]
  },
  {
   "cell_type": "code",
   "execution_count": null,
   "id": "f59b6373",
   "metadata": {},
   "outputs": [],
   "source": [
    "X_train, X_test, y_train, y_test = train_test_split(\n",
    "    data, label, test_size=0.33, random_state=42\n",
    ")"
   ]
  },
  {
   "cell_type": "markdown",
   "id": "2db2ecba",
   "metadata": {},
   "source": [
    "# Entrenament \n",
    "\n",
    "Entrenam un classificador, en particular un **Perceptró**. Un classificador és un model que ens permet fer prediccions binàries. Per entrenar-ho em de tenir en compte dues coses:\n",
    "* Cada model té parametres que determinen com actuen.\n",
    "* **Només em d'entrenar amb les dades d'entrenament**. "
   ]
  },
  {
   "cell_type": "code",
   "execution_count": null,
   "id": "4d7700b5",
   "metadata": {},
   "outputs": [],
   "source": [
    "clf = linear_model.Perceptron(tol=1e-9, random_state=42)\n",
    "clf.fit(X_train, y_train);"
   ]
  },
  {
   "cell_type": "markdown",
   "id": "884a8c54",
   "metadata": {},
   "source": [
    "El perceptró apren una divisió lineal. Podem mostrar aquesta divisió."
   ]
  },
  {
   "cell_type": "code",
   "execution_count": null,
   "id": "13dcf308",
   "metadata": {},
   "outputs": [],
   "source": [
    "x_intercept = (0, (-clf.intercept_ / clf.coef_[0][1])[0])\n",
    "y_intercept = ((-clf.intercept_ / clf.coef_[0][0])[0], 0)\n",
    "\n",
    "plt.plot(x_intercept, y_intercept);"
   ]
  },
  {
   "cell_type": "markdown",
   "id": "726a2ace",
   "metadata": {},
   "source": [
    "Evidentment la divisió per ella tota sola no ens permet observar res. A la següent passa li donarem sentit. El que podem veure és els seus valors, que es relacionen amb la formulació que heu vist a teoria. En particular podem veure com defineix una divisió tot seguint la formula d'una recta:\n",
    "\n",
    "$$ Y(X) = w_0 \\sum^n_{j=1} x_j \\cdot w_j$$"
   ]
  },
  {
   "cell_type": "code",
   "execution_count": null,
   "id": "9fd7cdad1421f2b3",
   "metadata": {
    "collapsed": false,
    "jupyter": {
     "outputs_hidden": false
    }
   },
   "outputs": [],
   "source": [
    "print(f\"Valor de bias: {clf.intercept_} - Valor dels pesos: {clf.coef_}\")"
   ]
  },
  {
   "cell_type": "markdown",
   "id": "2cafa6ab6b6b9a30",
   "metadata": {},
   "source": [
    "## Predicció i performance\n",
    "\n",
    "Ho combinam amb la informació que tenim de test per observar si ha fet la divisió correctament. Per fer-ho, primer fem la predicció del conjunt de test."
   ]
  },
  {
   "cell_type": "code",
   "execution_count": null,
   "id": "3d84fc18",
   "metadata": {},
   "outputs": [],
   "source": [
    "pred = clf.predict(X_test)"
   ]
  },
  {
   "cell_type": "code",
   "execution_count": null,
   "id": "523de6af",
   "metadata": {},
   "outputs": [],
   "source": [
    "pred"
   ]
  },
  {
   "cell_type": "markdown",
   "id": "9b31805b",
   "metadata": {},
   "source": [
    "Després pintam les dades, la seva predicció i la divisió."
   ]
  },
  {
   "cell_type": "code",
   "execution_count": null,
   "id": "ba9f7bfe",
   "metadata": {},
   "outputs": [],
   "source": [
    "plt.scatter(X_test[:, 0], X_test[:, 1], c=pred)\n",
    "plt.plot(x_intercept, y_intercept);"
   ]
  },
  {
   "cell_type": "markdown",
   "id": "f3b873dc",
   "metadata": {},
   "source": [
    "Obtenim les mètriques per saber si els resultats són millors o pitjors. Coneixem quatre mesures: *accuracy, recall, precision i F1-Score*. Podem emprar directament una eina que ho resumeix."
   ]
  },
  {
   "cell_type": "code",
   "execution_count": null,
   "id": "c9b91f4a",
   "metadata": {},
   "outputs": [],
   "source": [
    "from sklearn.metrics import classification_report\n",
    "\n",
    "print(classification_report(y_test, pred))"
   ]
  },
  {
   "cell_type": "markdown",
   "id": "4bc0f0bd",
   "metadata": {},
   "source": [
    "# Pràctica\n",
    "\n",
    "## Primeres dades"
   ]
  },
  {
   "cell_type": "code",
   "execution_count": null,
   "id": "a6f43932",
   "metadata": {},
   "outputs": [],
   "source": [
    "data = np.random.rand(2500, 2)\n",
    "\n",
    "data = data[((data[:, 0] > 0.6) | (data[:, 0] < 0.4)), :]\n",
    "data = data[((data[:, 1] > 0.6) | (data[:, 1] < 0.4)), :]\n",
    "\n",
    "label = (data[:, 0] > 0.5) | (data[:, 1] > 0.5).astype(np.uint8)\n",
    "plt.scatter(data[:, 0], data[:, 1], c=label);"
   ]
  },
  {
   "cell_type": "markdown",
   "id": "53cada8c531d0ede",
   "metadata": {},
   "source": [
    "**Activitat 1**\n",
    "\n",
    "Donada la següent mostres de dades d'entrenament i un conjunt de dades de prova petit, entrena un model perceptró. Recorda que sempre s'ha de fer la divisió entre conjunt de validació i entrenament. Una vegada entrenat respon a les següent preguntes: \n",
    "\n",
    "- On classificaries cadascuna d'elles? Quina accuracy s'ha obtingut?\n",
    "- Pinta també l'hiperplà que defineix el model.\n",
    "- Obté les mètriques de validació."
   ]
  },
  {
   "cell_type": "code",
   "execution_count": 1,
   "id": "91f0767555323e0e",
   "metadata": {
    "ExecuteTime": {
     "end_time": "2024-11-05T10:06:39.914185500Z",
     "start_time": "2024-11-05T10:06:38.857976800Z"
    }
   },
   "outputs": [
    {
     "ename": "NameError",
     "evalue": "name 'np' is not defined",
     "output_type": "error",
     "traceback": [
      "\u001b[1;31m---------------------------------------------------------------------------\u001b[0m",
      "\u001b[1;31mNameError\u001b[0m                                 Traceback (most recent call last)",
      "Cell \u001b[1;32mIn[1], line 1\u001b[0m\n\u001b[1;32m----> 1\u001b[0m X_test \u001b[38;5;241m=\u001b[39m \u001b[43mnp\u001b[49m\u001b[38;5;241m.\u001b[39marray([[\u001b[38;5;241m0.75\u001b[39m, \u001b[38;5;241m0.75\u001b[39m],[\u001b[38;5;241m0.95\u001b[39m, \u001b[38;5;241m0.3\u001b[39m],[\u001b[38;5;241m0.2\u001b[39m, \u001b[38;5;241m0.92\u001b[39m],[\u001b[38;5;241m0.31\u001b[39m, \u001b[38;5;241m0.11\u001b[39m]])\n\u001b[0;32m      2\u001b[0m plt\u001b[38;5;241m.\u001b[39mscatter(data[:,\u001b[38;5;241m0\u001b[39m], data[:,\u001b[38;5;241m1\u001b[39m], c\u001b[38;5;241m=\u001b[39mlabel)\n\u001b[0;32m      3\u001b[0m plt\u001b[38;5;241m.\u001b[39mscatter(X_test[:,\u001b[38;5;241m0\u001b[39m],X_test[:,\u001b[38;5;241m1\u001b[39m],c\u001b[38;5;241m=\u001b[39m\u001b[38;5;124m\"\u001b[39m\u001b[38;5;124mred\u001b[39m\u001b[38;5;124m\"\u001b[39m)\n",
      "\u001b[1;31mNameError\u001b[0m: name 'np' is not defined"
     ]
    }
   ],
   "source": [
    "X_test = np.array([[0.75, 0.75],[0.95, 0.3],[0.2, 0.92],[0.31, 0.11]])\n",
    "plt.scatter(data[:,0], data[:,1], c=label)\n",
    "plt.scatter(X_test[:,0],X_test[:,1],c=\"red\")"
   ]
  },
  {
   "cell_type": "markdown",
   "id": "1e4f15d0",
   "metadata": {},
   "source": [
    "## Segones dades\n",
    "\n",
    "Fer l'entrenament d'un nou model i pinta un altre pic l'hiperplà. Que passa?"
   ]
  },
  {
   "cell_type": "code",
   "execution_count": null,
   "id": "e429f45f",
   "metadata": {
    "ExecuteTime": {
     "end_time": "2024-11-05T10:06:39.940252100Z",
     "start_time": "2024-11-05T10:06:39.940252100Z"
    }
   },
   "outputs": [],
   "source": [
    "data = np.random.rand(2500, 2)\n",
    "\n",
    "data = data[((data[:, 0] > 0.6) | (data[:, 0] < 0.4)), :]\n",
    "data = data[((data[:, 1] > 0.6) | (data[:, 1] < 0.4)), :]\n",
    "\n",
    "label = np.bitwise_xor((data[:, 0] > 0.5), (data[:, 1] > 0.5)).astype(np.uint8)\n",
    "plt.scatter(data[:, 0], data[:, 1], c=label);"
   ]
  },
  {
   "cell_type": "code",
   "execution_count": null,
   "id": "dbb1ff87",
   "metadata": {
    "ExecuteTime": {
     "start_time": "2024-11-05T10:06:39.940252100Z"
    }
   },
   "outputs": [],
   "source": [
    "clf = linear_model.Perceptron(tol=1e-9, random_state=42)"
   ]
  }
 ],
 "metadata": {
  "kernelspec": {
   "display_name": "Python 3 (ipykernel)",
   "language": "python",
   "name": "python3"
  },
  "language_info": {
   "codemirror_mode": {
    "name": "ipython",
    "version": 3
   },
   "file_extension": ".py",
   "mimetype": "text/x-python",
   "name": "python",
   "nbconvert_exporter": "python",
   "pygments_lexer": "ipython3",
   "version": "3.12.6"
  }
 },
 "nbformat": 4,
 "nbformat_minor": 5
}
